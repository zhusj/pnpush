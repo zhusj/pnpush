{
 "cells": [
  {
   "cell_type": "code",
   "execution_count": 1,
   "metadata": {
    "collapsed": true
   },
   "outputs": [],
   "source": [
    "%matplotlib inline\n",
    "\n",
    "import os,sys\n",
    "import os.path as osp\n",
    "\n",
    "import argparse\n",
    "import os, tempfile, glob, shutil\n",
    "import random\n",
    "from datetime import datetime\n",
    "\n",
    "import GPy\n",
    "import GPyOpt\n",
    "import subprocess as sub\n",
    "import numpy as np\n",
    "import scipy.spatial\n",
    "import math\n",
    "import matplotlib.pyplot as plt\n",
    "from numpy import linalg as LA\n",
    "\n",
    "from scipy import optimize\n",
    "import time\n",
    "import socket\n",
    "from sklearn.neighbors import NearestNeighbors\n",
    "\n",
    "global g_blender_executable_path,  blank_file, render_code, model_file, table_file, temp_dirname, epsilon, \\\n",
    "       filename, location_gt, rotation_gt, obj_start_config_array, hand_start_config_array, \\\n",
    "       obj_end_config_array, hand_end_config_array, id_of_sample, train_file, init_pose_file, final_pose_file\n",
    "\n",
    "epsilon = 1e-6\n",
    "\n",
    "if os.environ.get('PHYSICS_PATH') == None:\n",
    "    print(\"Please set PHYSICS_PATH in bashrc!\")\n",
    "    sys.exit()\n",
    "\n",
    "g_repo_path = os.environ['PHYSICS_PATH']\n",
    "\n",
    "# Input Pose File path\n",
    "init_pose_file = g_repo_path + '/tmp/init_pose.txt'\n",
    "final_pose_file = g_repo_path + '/tmp/final_pose.txt'"
   ]
  },
  {
   "cell_type": "code",
   "execution_count": 2,
   "metadata": {
    "collapsed": false
   },
   "outputs": [],
   "source": [
    "def read_data(filename):\n",
    "    count = 1\n",
    "    obj_start_config_array = []\n",
    "    hand_start_config_array = []\n",
    "    obj_end_config_array = []\n",
    "    hand_end_config_array = []\n",
    "    \n",
    "    with open(filename) as f:\n",
    "        for line in f: # read rest of lines\n",
    "            if (count-3) % 6 == 0: \n",
    "                hand_start_config = []\n",
    "                hand_start_config.append([float(x) for x in line.split()])\n",
    "                hand_start_config_a= np.array(hand_start_config)                    \n",
    "                hand_start_config_array.append(hand_start_config_a)\n",
    "            if (count-2) % 6 == 0: \n",
    "                obj_start_config = []\n",
    "                obj_start_config.append([float(x) for x in line.split()])\n",
    "                obj_start_config_a= np.array(obj_start_config)                    \n",
    "                obj_start_config_array.append(obj_start_config_a)\n",
    "            if (count-5) % 6 == 0: \n",
    "                hand_end_config = []\n",
    "                hand_end_config.append([float(x) for x in line.split()])\n",
    "                hand_end_config_a= np.array(hand_end_config)                    \n",
    "                hand_end_config_array.append(hand_end_config_a)\n",
    "            if (count-4) % 6 == 0: \n",
    "                obj_end_config = []\n",
    "                obj_end_config.append([float(x) for x in line.split()])\n",
    "                obj_end_config_a= np.array(obj_end_config)                    \n",
    "                obj_end_config_array.append(obj_end_config_a)                    \n",
    "\n",
    "            count += 1\n",
    "    return obj_start_config_array, hand_start_config_array, obj_end_config_array, hand_end_config_array"
   ]
  },
  {
   "cell_type": "code",
   "execution_count": 3,
   "metadata": {
    "collapsed": true
   },
   "outputs": [],
   "source": [
    "def read_raw_data(filename):\n",
    "    count = 1\n",
    "    obj_start_config_array = []\n",
    "    hand_start_config_array = []\n",
    "    obj_end_config_array = []\n",
    "    hand_end_config_array = []\n",
    "    timelist = []\n",
    "\n",
    "    myorder=[0,1,2,6,3,4,5]\n",
    "\n",
    "    with open(filename) as f:\n",
    "        for line in f: # read rest of lines\n",
    "            if (count-4) % 14 == 0: \n",
    "                hand_start_config = []\n",
    "                hand_start_config.append([float(x) for x in line.split()])\n",
    "                hand_start_config = [ hand_start_config[0][i] for i in myorder]\n",
    "                hand_start_config_a= np.array(hand_start_config)                    \n",
    "                hand_start_config_array.append(hand_start_config_a)\n",
    "            if (count-6) % 14 == 0: \n",
    "                obj_start_config = []\n",
    "                obj_start_config.append([float(x) for x in line.split()])\n",
    "                obj_start_config = [ obj_start_config[0][i] for i in myorder]\n",
    "                obj_start_config_a= np.array(obj_start_config)                    \n",
    "                obj_start_config_array.append(obj_start_config_a)\n",
    "            if (count-8) % 14 == 0: \n",
    "                timelist.append([float(x) for x in line.split()])\n",
    "            if (count-12) % 14 == 0: \n",
    "                hand_end_config = []\n",
    "                hand_end_config.append([float(x) for x in line.split()])\n",
    "                hand_end_config = [ hand_end_config[0][i] for i in myorder]\n",
    "                hand_end_config_a= np.array(hand_end_config)                    \n",
    "                hand_end_config_array.append(hand_end_config_a)\n",
    "            if count % 14 == 0: \n",
    "                obj_end_config = []\n",
    "                obj_end_config.append([float(x) for x in line.split()])\n",
    "                obj_end_config = [ obj_end_config[0][i] for i in myorder]\n",
    "                obj_end_config_a= np.array(obj_end_config)                    \n",
    "                obj_end_config_array.append(obj_end_config_a)    \n",
    "\n",
    "            count += 1\n",
    "   \n",
    "    return obj_start_config_array, hand_start_config_array, obj_end_config_array, hand_end_config_array, timelist"
   ]
  },
  {
   "cell_type": "code",
   "execution_count": 4,
   "metadata": {
    "collapsed": false
   },
   "outputs": [],
   "source": [
    "def train(train_filename):\n",
    "    obj_start_config_train, hand_start_config_train, obj_end_config_train, hand_end_config_train = \\\n",
    "                                                                            read_data(train_filename)\n",
    "    X = np.squeeze(np.array(obj_start_config_train))\n",
    "    Y = np.squeeze(np.array(obj_end_config_train))\n",
    "\n",
    "    rbf = GPy.kern.RBF(X.shape[1])\n",
    "\n",
    "    print X.shape, Y.shape\n",
    "    \n",
    "    raw_input(\"Press Enter to continue...\")\n",
    "\n",
    "    model = GPy.models.GPRegression(X[0,:], Y[0,:], kernel=rbf)\n",
    "\n",
    "    model.randomize()\n",
    "    model.optimize()\n",
    "    \n",
    "    \n",
    "    \n",
    "    return model"
   ]
  },
  {
   "cell_type": "code",
   "execution_count": 72,
   "metadata": {
    "collapsed": false
   },
   "outputs": [],
   "source": [
    "def train(X,Y, id, time_budget):\n",
    "\n",
    "#     print X.shape, Y.shape\n",
    "    state_dim = X.shape[0]\n",
    "    rbf = GPy.kern.RBF(state_dim)\n",
    "    X_train = np.zeros((1, state_dim))\n",
    "    Y_train = np.zeros((1, state_dim))\n",
    "\n",
    "    X_train[0,:]=X\n",
    "    Y_train[0,:]=Y\n",
    "\n",
    "    model = GPy.models.GPRegression(X_train, Y_train, kernel=rbf)\n",
    "    model.randomize()\n",
    "    model.optimize()\n",
    "    \n",
    "    ############ sample ##############\n",
    "    sample_num = 100\n",
    "    \n",
    "    start_time = time.time()\n",
    "    elapsed_time = time.time() - start_time\n",
    "\n",
    "    count = 1\n",
    "    while elapsed_time < time_budget:\n",
    "        X_sample = np.zeros((sample_num, state_dim))    \n",
    "        for i in xrange(0, state_dim):\n",
    "            X_sample[:, i] = np.random.uniform(X[i]-0.05, X[i]+0.05, sample_num)\n",
    "            \n",
    "        (Y_predict, Y_var) = model.predict_noiseless(X_sample)\n",
    "        max_var = Y_var.argmax(axis = 0)\n",
    "        X_new = X_sample[max_var,:]\n",
    "#         print max_var\n",
    "#         print Y_var[max_var]\n",
    "#         print X_new.shape\n",
    "\n",
    "        X_train = np.concatenate((X_train, X_new),axis=0)\n",
    "#         print X_train\n",
    "        \n",
    "        with open(init_pose_file, \"w+\") as file:\n",
    "            file.write(\"%f %f \\n\" % ( X_new[0,0], X_new[0,1]))\n",
    "         \n",
    "        # Create a TCP/IP socket\n",
    "        sock2 = socket.socket(socket.AF_INET, socket.SOCK_STREAM)\n",
    "        sock2.setsockopt(socket.SOL_SOCKET, socket.SO_REUSEADDR, 1)\n",
    "\n",
    "        # Connect the socket to the port where the server is listening\n",
    "        serv_address = ('localhost', 50007)\n",
    "#         print('waiting for a connection')\n",
    "        sock2.connect(serv_address)\n",
    "#         print('Connected')\n",
    "        sock2.sendall(str(id))\n",
    "        sock2.close()   \n",
    "\n",
    "        sock = socket.socket(socket.AF_INET, socket.SOCK_STREAM)\n",
    "        sock.setsockopt(socket.SOL_SOCKET, socket.SO_REUSEADDR, 1)\n",
    "        # Bind the socket to the port\n",
    "        server_address = ('localhost', 10000)\n",
    "        sock.bind(server_address)\n",
    "\n",
    "        # Listen for incoming connections\n",
    "        sock.listen(1)        \n",
    "        connection, client_address = sock.accept()\n",
    "\n",
    "        # Receive the data in small chunks and retransmit it\n",
    "        data = connection.recv(16)\n",
    "        connection.close()\n",
    "        sock.close()\n",
    "        \n",
    "        \n",
    "        Y_new = np.zeros((1, state_dim))\n",
    "\n",
    "        with open(final_pose_file, \"r\") as file:\n",
    "            for line in file:\n",
    "                vals = line.split()\n",
    "                for i in xrange(0,7):\n",
    "                    Y_new[0,i] = vals[i]\n",
    "        \n",
    "#         print Y_new\n",
    "        Y_train = np.concatenate((Y_train, Y_new),axis=0)\n",
    "        model.set_XY(X=X_train, Y=Y_train)\n",
    "        model.optimize('bfgs')\n",
    "        \n",
    "#         print count, X_train.shape, Y_train.shape\n",
    "        count += 1\n",
    "        elapsed_time = time.time() - start_time\n",
    "        \n",
    "    return model, X_train, Y_train"
   ]
  },
  {
   "cell_type": "code",
   "execution_count": 29,
   "metadata": {
    "collapsed": true
   },
   "outputs": [],
   "source": [
    "def test(test_filename, model):\n",
    "    obj_start_config_test, hand_start_config_test, obj_end_config_test, hand_end_config_test = \\\n",
    "                                                                                read_data(test_filename)\n",
    "    X_test = np.squeeze(np.array(obj_start_config_test))\n",
    "    Y_test = np.squeeze(np.array(obj_end_config_test))\n",
    "    Y_predict = model.predict(X_test)[0]\n",
    "    gppred_pos_diff = np.abs(Y_predict[:,0:2] - Y_test[:,0:2])\n",
    "    ros_diff =  np.multiply(Y_test[:,3:], Y_predict[:,3:])**2\n",
    "    gppred_rot_diff = 1 - np.sum(ros_diff,axis=1)\n",
    "    num_of_samples = X_test.shape[0]\n",
    "    \n",
    "    return np.sum(np.sqrt(np.sum(gppred_pos_diff**2,axis=1)))/num_of_samples, \\\n",
    "           np.sum(gppred_rot_diff)/num_of_samples"
   ]
  },
  {
   "cell_type": "code",
   "execution_count": 7,
   "metadata": {
    "collapsed": false
   },
   "outputs": [],
   "source": [
    "import socket\n",
    "\n",
    "global g_blender_executable_path, blank_file, render_code, robot_file, model_file, \\\n",
    "       filename, mass, friction, table_file, temp_dirname\n",
    "##############################################\n",
    "if os.environ.get('BLENDER_PATH') == None:\n",
    "    print(\"Please set BLENDER_PATH in bashrc!\")\n",
    "    sys.exit()\n",
    "g_blender_executable_path = os.environ['BLENDER_PATH']\n",
    "\n",
    "if os.environ.get('PHYSICS_PATH') == None:\n",
    "    print(\"Please set PHYSICS_PATH in bashrc!\")\n",
    "    sys.exit()\n",
    "\n",
    "g_repo_path = os.environ['PHYSICS_PATH']\n",
    "\n",
    "# Input Pose File path\n",
    "init_pose_file = g_repo_path + '/tmp/init_pose.txt'\n",
    "final_pose_file = g_repo_path + '/tmp/final_pose.txt'\n",
    "\n",
    "g_blank_blend_file_path = g_repo_path + '/blank.blend'\n",
    "obj_model_folder = g_repo_path+'/obj_models/'\n",
    "table_model_folder = g_repo_path+'/table_models/'\n",
    "model_name = 'expo_dry_erase_board_eraser'\n",
    "robot_name = 'reflex'\n",
    "table_name = 'table'\n",
    "\n",
    "\n",
    "blank_file = osp.join(g_blank_blend_file_path)\n",
    "render_code = g_repo_path + '/render_gpyopt_dynamics_reflex_expo_socket.py'\n",
    "model_file = osp.join(obj_model_folder, model_name+ '.obj')\n",
    "robot_file = osp.join(obj_model_folder, robot_name+ '.obj')\n",
    "table_file = osp.join(table_model_folder, table_name+ '.obj')\n",
    "temp_dirname = '/home/zhusj/repos/blender_scene_generator/test'  #tempfile.mkdtemp()\n",
    "\n",
    "mass = 0.5\n",
    "friction =0.5"
   ]
  },
  {
   "cell_type": "code",
   "execution_count": 106,
   "metadata": {
    "collapsed": false
   },
   "outputs": [
    {
     "name": "stdout",
     "output_type": "stream",
     "text": [
      "/home/zhusj/repos/blender_scene_generator/data/dynamics/test/push_data_action_0_100_0.5_0.5_test.txt\n",
      "error:  0.0526791299538 0.153590369701\n",
      "error:  0.053210668514 0.187979148623\n",
      "/home/zhusj/repos/blender_scene_generator/data/dynamics/test/push_data_action_1_100_0.5_0.5_test.txt\n",
      "error:  0.0373346952262 0.213508528114\n",
      "error:  0.0344565348584 0.321040426679\n",
      "/home/zhusj/repos/blender_scene_generator/data/dynamics/test/push_data_action_2_100_0.5_0.5_test.txt\n",
      "error:  0.051519778433 0.194926642544\n",
      "error:  0.0559320978221 0.217614279722\n",
      "/home/zhusj/repos/blender_scene_generator/data/dynamics/test/push_data_action_3_100_0.5_0.5_test.txt\n",
      "error:  0.101308061094 0.077758065781\n",
      "error:  0.10276949332 0.185780867312\n",
      "/home/zhusj/repos/blender_scene_generator/data/dynamics/test/push_data_action_4_100_0.5_0.5_test.txt\n",
      "error:  0.0438063789973 0.157526324139\n",
      "error:  0.0417121784697 0.135018971405\n",
      "/home/zhusj/repos/blender_scene_generator/data/dynamics/test/push_data_action_5_100_0.5_0.5_test.txt\n",
      "error:  0.0382570342958 0.186819649865\n",
      "error:  0.0335704849337 0.263005305626\n",
      "/home/zhusj/repos/blender_scene_generator/data/dynamics/test/push_data_action_6_100_0.5_0.5_test.txt\n",
      "error:  0.125678795811 0.98383978773\n",
      "error:  0.130179751956 0.859412507597\n",
      "/home/zhusj/repos/blender_scene_generator/data/dynamics/test/push_data_action_7_100_0.5_0.5_test.txt\n",
      "error:  0.0296164043316 0.978903893963\n",
      "error:  0.0541051898329 0.975298357512\n",
      "/home/zhusj/repos/blender_scene_generator/data/dynamics/test/push_data_action_8_100_0.5_0.5_test.txt\n",
      "error:  0.129995654483 0.981220327183\n",
      "error:  0.118620447636 0.732366263867\n",
      "/home/zhusj/repos/blender_scene_generator/data/dynamics/test/push_data_action_9_100_0.5_0.5_test.txt\n",
      "error:  0.113322466288 0.157644836371\n",
      "error:  0.0934962961419 0.220214620114\n",
      "/home/zhusj/repos/blender_scene_generator/data/dynamics/test/push_data_action_10_100_0.5_0.5_test.txt\n",
      "error:  0.0519892356693 0.190642747751\n",
      "error:  0.0455692794318 0.23628179612\n",
      "/home/zhusj/repos/blender_scene_generator/data/dynamics/test/push_data_action_11_100_0.5_0.5_test.txt\n",
      "error:  0.0573885812861 0.168007557846\n",
      "error:  0.0621325302232 0.185345777297\n",
      "/home/zhusj/repos/blender_scene_generator/data/dynamics/test/push_data_action_12_100_0.5_0.5_test.txt\n",
      "error:  0.812471380178 1.0\n",
      "error:  0.15927986838 0.285297430609\n",
      "/home/zhusj/repos/blender_scene_generator/data/dynamics/test/push_data_action_13_100_0.5_0.5_test.txt\n",
      "error:  0.0466014959663 0.317735651816\n",
      "error:  0.0461586810961 0.262191261287\n",
      "/home/zhusj/repos/blender_scene_generator/data/dynamics/test/push_data_action_14_100_0.5_0.5_test.txt\n",
      "error:  0.0505121062301 0.212458837917\n",
      "error:  0.0668015348995 0.226623361263\n",
      "/home/zhusj/repos/blender_scene_generator/data/dynamics/test/push_data_action_15_100_0.5_0.5_test.txt\n",
      "error:  0.0406499582117 0.633310230253\n",
      "error:  0.0511342396104 0.668165377281\n",
      "/home/zhusj/repos/blender_scene_generator/data/dynamics/test/push_data_action_16_100_0.5_0.5_test.txt\n",
      "error:  0.0479286069153 0.0894354097872\n",
      "error:  0.0704906955321 0.100961559312\n",
      "/home/zhusj/repos/blender_scene_generator/data/dynamics/test/push_data_action_17_100_0.5_0.5_test.txt\n",
      "error:  0.0611647279959 0.203119358079\n",
      "error:  0.0546824022116 0.186699431666\n",
      "/home/zhusj/repos/blender_scene_generator/data/dynamics/test/push_data_action_18_100_0.5_0.5_test.txt\n",
      "error:  0.0433796948965 0.072228535474\n",
      "error:  0.0415006844243 0.0669350112128\n",
      "/home/zhusj/repos/blender_scene_generator/data/dynamics/test/push_data_action_19_100_0.5_0.5_test.txt\n",
      "error:  0.0437383703836 0.704938923082\n",
      "error:  0.0419348572247 0.70928947398\n",
      "/home/zhusj/repos/blender_scene_generator/data/dynamics/test/push_data_action_20_100_0.5_0.5_test.txt\n",
      "error:  0.0976080018148 0.182711497209\n",
      "error:  0.0767196533906 0.0777974495598\n",
      "/home/zhusj/repos/blender_scene_generator/data/dynamics/test/push_data_action_21_100_0.5_0.5_test.txt\n",
      "error:  0.0599363500429 0.186349044978\n",
      "error:  0.0633940102466 0.261243886349\n",
      "/home/zhusj/repos/blender_scene_generator/data/dynamics/test/push_data_action_22_100_0.5_0.5_test.txt\n",
      "error:  0.0640549102769 0.0830511928592\n",
      "error:  0.0672558516686 0.178774865039\n",
      "/home/zhusj/repos/blender_scene_generator/data/dynamics/test/push_data_action_23_100_0.5_0.5_test.txt\n",
      "error:  0.299856675491 0.346211771892\n",
      "error:  0.289536601908 0.340126105855\n",
      "/home/zhusj/repos/blender_scene_generator/data/dynamics/test/push_data_action_24_100_0.5_0.5_test.txt\n",
      "error:  0.0733818546908 0.997937410338\n",
      "error:  0.0631922844254 0.997490789727\n",
      "/home/zhusj/repos/blender_scene_generator/data/dynamics/test/push_data_action_25_100_0.5_0.5_test.txt\n",
      "error:  0.0559005554868 0.926520147771\n",
      "error:  0.0702257157686 0.838532705543\n",
      "/home/zhusj/repos/blender_scene_generator/data/dynamics/test/push_data_action_26_100_0.5_0.5_test.txt\n",
      "error:  0.0382016501958 0.999411201019\n",
      "error:  0.0249762825003 0.999304541173\n",
      "/home/zhusj/repos/blender_scene_generator/data/dynamics/test/push_data_action_27_100_0.5_0.5_test.txt\n",
      "error:  0.032477104048 0.832256729491\n",
      "error:  0.0351564336253 0.798596429723\n",
      "/home/zhusj/repos/blender_scene_generator/data/dynamics/test/push_data_action_28_100_0.5_0.5_test.txt\n",
      "error:  0.0627892269213 0.471547226165\n",
      "error:  0.121076036534 0.56506548125\n",
      "/home/zhusj/repos/blender_scene_generator/data/dynamics/test/push_data_action_29_100_0.5_0.5_test.txt\n",
      "error:  0.213242322744 0.869884234536\n",
      "error:  0.233207955069 0.740661841974\n"
     ]
    }
   ],
   "source": [
    "filename = '/home/zhusj/repos/blender_scene_generator/data/good_exp.txt'\n",
    "obj_start_config_list, hand_start_config_list, obj_end_config_list, hand_end_config_list, timelist\\\n",
    "                                                        = read_raw_data(filename)\n",
    "test_err =[]\n",
    "test_NN_err =[]\n",
    "\n",
    "all_model =[]\n",
    "all_X_train=[]\n",
    "all_Y_train=[]\n",
    "for id in xrange(0,len(obj_start_config_list)):  \n",
    "\n",
    "# id = 0\n",
    "    time_budget = 30.0\n",
    "\n",
    "    X = obj_start_config_list[id]\n",
    "    Y = obj_end_config_list[id]\n",
    "\n",
    "    model, X_train, Y_train = train(X,Y, id, time_budget)\n",
    "    all_model.append(model)\n",
    "    all_X_train.append(X_train)\n",
    "    all_Y_train.append(Y_train)\n",
    "    \n",
    "    test_filename = g_repo_path + '/data/dynamics/test/' + 'push_data_action_' + str(id) +'_100_0.5_0.5_test.txt'\n",
    "    print test_filename\n",
    "    pos_err, quat_err = test(test_filename, model)\n",
    "    print 'error: ', pos_err, quat_err\n",
    "    \n",
    "    pos_err_NN, quat_err_NN = test_NN(test_filename, X_train, Y_train)\n",
    "    print 'error: ', pos_err_NN, quat_err_NN\n",
    "    \n",
    "    test_err.append([pos_err, quat_err])\n",
    "    test_NN_err.append([pos_err_NN, quat_err_NN])\n",
    "\n",
    "\n",
    "# print X.shape\n",
    "     \n",
    "#     train_filename = path + file\n",
    "#     print train_filename\n",
    "    \n",
    "\n",
    "#     test_filename = current_path + 'test/' + 'push_data_action_' + str(id) +'_100_0.5_0.5_test.txt'\n",
    "#     print test_filename\n",
    "#     pos_err, quat_err = test(test_filename, model)\n",
    "#     print 'error: ', pos_err, quat_err\n",
    "    \n",
    "#     raw_input(\"Press Enter to continue...\")\n",
    "\n",
    "#     test_err.append([pos_err, quat_err])"
   ]
  },
  {
   "cell_type": "code",
   "execution_count": 99,
   "metadata": {
    "collapsed": false
   },
   "outputs": [
    {
     "name": "stdout",
     "output_type": "stream",
     "text": [
      "/home/zhusj/repos/blender_scene_generator/data/dynamics/test/push_data_action_0_100_0.5_0.5_test.txt\n",
      "error:  0.052773454269 0.21185750237\n",
      "error:  0.0556269914601 0.189980888553\n",
      "/home/zhusj/repos/blender_scene_generator/data/dynamics/test/push_data_action_1_100_0.5_0.5_test.txt\n",
      "error:  0.0529263698443 0.289983651822\n",
      "error:  0.0350161743007 0.303265215165\n",
      "/home/zhusj/repos/blender_scene_generator/data/dynamics/test/push_data_action_2_100_0.5_0.5_test.txt\n",
      "error:  0.0533754670296 0.239918442068\n",
      "error:  0.0544891747096 0.19016841787\n",
      "/home/zhusj/repos/blender_scene_generator/data/dynamics/test/push_data_action_3_100_0.5_0.5_test.txt\n",
      "error:  0.0908709981981 0.101750161839\n",
      "error:  0.107769659466 0.150947916471\n",
      "/home/zhusj/repos/blender_scene_generator/data/dynamics/test/push_data_action_4_100_0.5_0.5_test.txt\n",
      "error:  0.0730032678684 0.322782365595\n",
      "error:  0.0425357102668 0.110658719642\n",
      "/home/zhusj/repos/blender_scene_generator/data/dynamics/test/push_data_action_5_100_0.5_0.5_test.txt\n",
      "error:  0.163570495237 0.282214135907\n",
      "error:  0.119249513043 0.33635685371\n",
      "/home/zhusj/repos/blender_scene_generator/data/dynamics/test/push_data_action_6_100_0.5_0.5_test.txt\n",
      "error:  0.137275540482 0.974777624275\n",
      "error:  0.125790409592 0.850973094811\n",
      "/home/zhusj/repos/blender_scene_generator/data/dynamics/test/push_data_action_7_100_0.5_0.5_test.txt\n",
      "error:  0.169781104969 0.997152512964\n",
      "error:  0.2770696695 0.764487386295\n",
      "/home/zhusj/repos/blender_scene_generator/data/dynamics/test/push_data_action_8_100_0.5_0.5_test.txt\n",
      "error:  0.2540068868 0.990941830238\n",
      "error:  0.222568363449 0.73310118148\n",
      "/home/zhusj/repos/blender_scene_generator/data/dynamics/test/push_data_action_9_100_0.5_0.5_test.txt\n",
      "error:  0.207973941221 0.239358861753\n",
      "error:  0.220556099348 0.223144355932\n",
      "/home/zhusj/repos/blender_scene_generator/data/dynamics/test/push_data_action_10_100_0.5_0.5_test.txt\n",
      "error:  0.454489350154 0.762278194029\n",
      "error:  0.674087119012 0.501381903221\n",
      "/home/zhusj/repos/blender_scene_generator/data/dynamics/test/push_data_action_11_100_0.5_0.5_test.txt\n",
      "error:  0.678991443508 1.0\n",
      "error:  0.336340562423 0.453876056804\n",
      "/home/zhusj/repos/blender_scene_generator/data/dynamics/test/push_data_action_12_100_0.5_0.5_test.txt\n",
      "error:  0.812471376634 1.0\n",
      "error:  1.16661949981 0.741684227815\n",
      "/home/zhusj/repos/blender_scene_generator/data/dynamics/test/push_data_action_13_100_0.5_0.5_test.txt\n",
      "error:  0.376885506961 0.669340187831\n",
      "error:  0.316393728635 0.414774107083\n",
      "/home/zhusj/repos/blender_scene_generator/data/dynamics/test/push_data_action_14_100_0.5_0.5_test.txt\n",
      "error:  0.239273582482 0.743647025959\n",
      "error:  0.196174809833 0.633996961926\n",
      "/home/zhusj/repos/blender_scene_generator/data/dynamics/test/push_data_action_15_100_0.5_0.5_test.txt\n",
      "error:  0.619454135708 0.899759670152\n",
      "error:  0.968476662111 0.75074059788\n",
      "/home/zhusj/repos/blender_scene_generator/data/dynamics/test/push_data_action_16_100_0.5_0.5_test.txt\n",
      "error:  0.565688462412 0.999999755181\n",
      "error:  0.934973295371 0.554586053869\n",
      "/home/zhusj/repos/blender_scene_generator/data/dynamics/test/push_data_action_17_100_0.5_0.5_test.txt\n",
      "error:  0.227493179118 0.768181400881\n",
      "error:  0.233830807782 0.600979691415\n",
      "/home/zhusj/repos/blender_scene_generator/data/dynamics/test/push_data_action_18_100_0.5_0.5_test.txt\n",
      "error:  0.651026749559 0.99999193661\n",
      "error:  0.785092249964 0.380135881012\n",
      "/home/zhusj/repos/blender_scene_generator/data/dynamics/test/push_data_action_19_100_0.5_0.5_test.txt\n",
      "error:  0.394424109141 0.748036012877\n",
      "error:  0.478961131988 0.655478532815\n",
      "/home/zhusj/repos/blender_scene_generator/data/dynamics/test/push_data_action_20_100_0.5_0.5_test.txt\n",
      "error:  0.220720302583 0.628003578575\n",
      "error:  0.1781691118 0.247001739702\n",
      "/home/zhusj/repos/blender_scene_generator/data/dynamics/test/push_data_action_21_100_0.5_0.5_test.txt\n",
      "error:  0.139595462351 0.412898917983\n",
      "error:  0.148773021781 0.341610359471\n",
      "/home/zhusj/repos/blender_scene_generator/data/dynamics/test/push_data_action_22_100_0.5_0.5_test.txt\n",
      "error:  0.663849419888 1.0\n",
      "error:  0.398938281909 0.511764778359\n",
      "/home/zhusj/repos/blender_scene_generator/data/dynamics/test/push_data_action_23_100_0.5_0.5_test.txt\n",
      "error:  0.870959084067 0.996616250326\n",
      "error:  0.453793344775 0.354038331434\n",
      "/home/zhusj/repos/blender_scene_generator/data/dynamics/test/push_data_action_24_100_0.5_0.5_test.txt\n",
      "error:  0.137202742389 0.991040155216\n",
      "error:  0.148650098117 0.862676256044\n",
      "/home/zhusj/repos/blender_scene_generator/data/dynamics/test/push_data_action_25_100_0.5_0.5_test.txt\n",
      "error:  0.255397348545 0.898020216178\n",
      "error:  0.267358601765 0.64166029908\n",
      "/home/zhusj/repos/blender_scene_generator/data/dynamics/test/push_data_action_26_100_0.5_0.5_test.txt\n",
      "error:  0.645412787622 1.0\n",
      "error:  0.635384544096 0.775611480823\n",
      "/home/zhusj/repos/blender_scene_generator/data/dynamics/test/push_data_action_27_100_0.5_0.5_test.txt\n",
      "error:  0.587406849149 0.999999999999\n",
      "error:  1.51454782259 0.815191102149\n",
      "/home/zhusj/repos/blender_scene_generator/data/dynamics/test/push_data_action_28_100_0.5_0.5_test.txt\n",
      "error:  0.717898360057 1.0\n",
      "error:  0.379916929672 0.797438171088\n",
      "/home/zhusj/repos/blender_scene_generator/data/dynamics/test/push_data_action_29_100_0.5_0.5_test.txt\n",
      "error:  0.353706946678 0.840904115645\n",
      "error:  0.353480823933 0.637570262845\n"
     ]
    }
   ],
   "source": [
    "filename = '/home/zhusj/repos/blender_scene_generator/data/good_exp.txt'\n",
    "obj_start_config_list, hand_start_config_list, obj_end_config_list, hand_end_config_list, timelist\\\n",
    "                                                        = read_raw_data(filename)\n",
    "test_err =[]\n",
    "test_NN_err =[]\n",
    "\n",
    "all_model =[]\n",
    "all_X_train=[]\n",
    "all_Y_train=[]\n",
    "for id in xrange(0,len(obj_start_config_list)):  \n",
    "\n",
    "# id = 0\n",
    "    time_budget = 30.0\n",
    "\n",
    "    X = obj_start_config_list[id]\n",
    "    Y = obj_end_config_list[id]\n",
    "\n",
    "    model, X_train, Y_train = train(X,Y, id, time_budget)\n",
    "    all_model.append(model)\n",
    "    all_X_train.append(X_train)\n",
    "    all_Y_train.append(Y_train)\n",
    "    \n",
    "    test_filename = g_repo_path + '/data/dynamics/test/' + 'push_data_action_' + str(id) +'_100_0.5_0.5_test.txt'\n",
    "    print test_filename\n",
    "    pos_err, quat_err = test(test_filename, model)\n",
    "    print 'error: ', pos_err, quat_err\n",
    "    \n",
    "    pos_err_NN, quat_err_NN = test_NN(test_filename, X_train, Y_train)\n",
    "    print 'error: ', pos_err_NN, quat_err_NN\n",
    "    \n",
    "    test_err.append([pos_err, quat_err])\n",
    "    test_NN_err.append([pos_err_NN, quat_err_NN])\n",
    "\n",
    "\n",
    "# print X.shape\n",
    "     \n",
    "#     train_filename = path + file\n",
    "#     print train_filename\n",
    "    \n",
    "\n",
    "#     test_filename = current_path + 'test/' + 'push_data_action_' + str(id) +'_100_0.5_0.5_test.txt'\n",
    "#     print test_filename\n",
    "#     pos_err, quat_err = test(test_filename, model)\n",
    "#     print 'error: ', pos_err, quat_err\n",
    "    \n",
    "#     raw_input(\"Press Enter to continue...\")\n",
    "\n",
    "#     test_err.append([pos_err, quat_err])"
   ]
  },
  {
   "cell_type": "code",
   "execution_count": 91,
   "metadata": {
    "collapsed": false
   },
   "outputs": [
    {
     "data": {
      "text/plain": [
       "[<GPy.models.gp_regression.GPRegression at 0x7f2a3c25be10>,\n",
       " <GPy.models.gp_regression.GPRegression at 0x7f2a3c221ad0>,\n",
       " <GPy.models.gp_regression.GPRegression at 0x7f2a04498ed0>,\n",
       " <GPy.models.gp_regression.GPRegression at 0x7f2a0443b490>,\n",
       " <GPy.models.gp_regression.GPRegression at 0x7f2a3c27f990>,\n",
       " <GPy.models.gp_regression.GPRegression at 0x7f2a044acb10>,\n",
       " <GPy.models.gp_regression.GPRegression at 0x7f2a04405950>,\n",
       " <GPy.models.gp_regression.GPRegression at 0x7f2a0443f2d0>,\n",
       " <GPy.models.gp_regression.GPRegression at 0x7f2a3c23f4d0>,\n",
       " <GPy.models.gp_regression.GPRegression at 0x7f2a3c251950>,\n",
       " <GPy.models.gp_regression.GPRegression at 0x7f2a3c274050>,\n",
       " <GPy.models.gp_regression.GPRegression at 0x7f2a043fe190>,\n",
       " <GPy.models.gp_regression.GPRegression at 0x7f2a0440d450>,\n",
       " <GPy.models.gp_regression.GPRegression at 0x7f2a0442e590>,\n",
       " <GPy.models.gp_regression.GPRegression at 0x7f2a0448d6d0>,\n",
       " <GPy.models.gp_regression.GPRegression at 0x7f2a3c5d5c90>,\n",
       " <GPy.models.gp_regression.GPRegression at 0x7f2a3cebdf50>,\n",
       " <GPy.models.gp_regression.GPRegression at 0x7f2a3c5e2810>,\n",
       " <GPy.models.gp_regression.GPRegression at 0x7f2a043c5d50>,\n",
       " <GPy.models.gp_regression.GPRegression at 0x7f2a043bc290>,\n",
       " <GPy.models.gp_regression.GPRegression at 0x7f2a043d22d0>,\n",
       " <GPy.models.gp_regression.GPRegression at 0x7f2a043ee6d0>,\n",
       " <GPy.models.gp_regression.GPRegression at 0x7f2a0437ebd0>,\n",
       " <GPy.models.gp_regression.GPRegression at 0x7f2a043932d0>,\n",
       " <GPy.models.gp_regression.GPRegression at 0x7f2a0439f3d0>,\n",
       " <GPy.models.gp_regression.GPRegression at 0x7f2a043b2890>,\n",
       " <GPy.models.gp_regression.GPRegression at 0x7f2a04337c90>,\n",
       " <GPy.models.gp_regression.GPRegression at 0x7f2a04347d10>,\n",
       " <GPy.models.gp_regression.GPRegression at 0x7f2a04363050>,\n",
       " <GPy.models.gp_regression.GPRegression at 0x7f2a04372250>]"
      ]
     },
     "execution_count": 91,
     "metadata": {},
     "output_type": "execute_result"
    }
   ],
   "source": [
    "all_model"
   ]
  },
  {
   "cell_type": "code",
   "execution_count": 92,
   "metadata": {
    "collapsed": false
   },
   "outputs": [
    {
     "name": "stdout",
     "output_type": "stream",
     "text": [
      "/home/zhusj/repos/blender_scene_generator/data/dynamics/test/push_data_action_0_100_0.5_0.5_test.txt\n",
      "error:  0.0554299560552 0.12681616182\n",
      "/home/zhusj/repos/blender_scene_generator/data/dynamics/test/push_data_action_1_100_0.5_0.5_test.txt\n",
      "error:  0.0631679370738 0.217390752527\n",
      "/home/zhusj/repos/blender_scene_generator/data/dynamics/test/push_data_action_2_100_0.5_0.5_test.txt\n",
      "error:  0.0752226166549 0.245934618056\n",
      "/home/zhusj/repos/blender_scene_generator/data/dynamics/test/push_data_action_3_100_0.5_0.5_test.txt\n",
      "error:  0.228052730157 0.579283354445\n",
      "/home/zhusj/repos/blender_scene_generator/data/dynamics/test/push_data_action_4_100_0.5_0.5_test.txt\n",
      "error:  0.0568900304609 0.162790827028\n",
      "/home/zhusj/repos/blender_scene_generator/data/dynamics/test/push_data_action_5_100_0.5_0.5_test.txt\n",
      "error:  0.0992702093317 0.440509129764\n",
      "/home/zhusj/repos/blender_scene_generator/data/dynamics/test/push_data_action_6_100_0.5_0.5_test.txt\n",
      "error:  0.134192418525 0.953710211836\n",
      "/home/zhusj/repos/blender_scene_generator/data/dynamics/test/push_data_action_7_100_0.5_0.5_test.txt\n",
      "error:  0.247062187805 0.999139576134\n",
      "/home/zhusj/repos/blender_scene_generator/data/dynamics/test/push_data_action_8_100_0.5_0.5_test.txt\n",
      "error:  0.103060503134 0.830747451519\n",
      "/home/zhusj/repos/blender_scene_generator/data/dynamics/test/push_data_action_9_100_0.5_0.5_test.txt\n",
      "error:  0.0710066305996 0.142252761553\n",
      "/home/zhusj/repos/blender_scene_generator/data/dynamics/test/push_data_action_10_100_0.5_0.5_test.txt\n",
      "error:  0.11363051919 0.267019365017\n",
      "/home/zhusj/repos/blender_scene_generator/data/dynamics/test/push_data_action_11_100_0.5_0.5_test.txt\n",
      "error:  0.135532133099 0.255878400225\n",
      "/home/zhusj/repos/blender_scene_generator/data/dynamics/test/push_data_action_12_100_0.5_0.5_test.txt\n",
      "error:  0.812471380178 1.0\n",
      "/home/zhusj/repos/blender_scene_generator/data/dynamics/test/push_data_action_13_100_0.5_0.5_test.txt\n",
      "error:  0.610926646281 1.0\n",
      "/home/zhusj/repos/blender_scene_generator/data/dynamics/test/push_data_action_14_100_0.5_0.5_test.txt\n",
      "error:  0.0513387575118 0.178153291183\n",
      "/home/zhusj/repos/blender_scene_generator/data/dynamics/test/push_data_action_15_100_0.5_0.5_test.txt\n",
      "error:  0.562910235063 0.999841284555\n",
      "/home/zhusj/repos/blender_scene_generator/data/dynamics/test/push_data_action_16_100_0.5_0.5_test.txt\n",
      "error:  0.0504743409237 0.148323943712\n",
      "/home/zhusj/repos/blender_scene_generator/data/dynamics/test/push_data_action_17_100_0.5_0.5_test.txt\n",
      "error:  0.129080560889 0.264741993444\n",
      "/home/zhusj/repos/blender_scene_generator/data/dynamics/test/push_data_action_18_100_0.5_0.5_test.txt\n",
      "error:  0.122919229707 0.370391997323\n",
      "/home/zhusj/repos/blender_scene_generator/data/dynamics/test/push_data_action_19_100_0.5_0.5_test.txt\n",
      "error:  0.0974688132912 0.6724741279\n",
      "/home/zhusj/repos/blender_scene_generator/data/dynamics/test/push_data_action_20_100_0.5_0.5_test.txt\n",
      "error:  0.10933229697 0.189561430502\n",
      "/home/zhusj/repos/blender_scene_generator/data/dynamics/test/push_data_action_21_100_0.5_0.5_test.txt\n",
      "error:  0.0592885171177 0.117051092362\n",
      "/home/zhusj/repos/blender_scene_generator/data/dynamics/test/push_data_action_22_100_0.5_0.5_test.txt\n",
      "error:  0.0484326974466 0.191744812987\n",
      "/home/zhusj/repos/blender_scene_generator/data/dynamics/test/push_data_action_23_100_0.5_0.5_test.txt\n",
      "error:  0.270816853179 0.516145442122\n",
      "/home/zhusj/repos/blender_scene_generator/data/dynamics/test/push_data_action_24_100_0.5_0.5_test.txt\n",
      "error:  0.0683564609725 0.995587854423\n",
      "/home/zhusj/repos/blender_scene_generator/data/dynamics/test/push_data_action_25_100_0.5_0.5_test.txt\n",
      "error:  0.112911048413 0.996743411322\n",
      "/home/zhusj/repos/blender_scene_generator/data/dynamics/test/push_data_action_26_100_0.5_0.5_test.txt\n",
      "error:  0.32207834836 0.998206061956\n",
      "/home/zhusj/repos/blender_scene_generator/data/dynamics/test/push_data_action_27_100_0.5_0.5_test.txt\n",
      "error:  0.0963496605892 0.902093850589\n",
      "/home/zhusj/repos/blender_scene_generator/data/dynamics/test/push_data_action_28_100_0.5_0.5_test.txt\n",
      "error:  0.0826029696048 0.195939354636\n",
      "/home/zhusj/repos/blender_scene_generator/data/dynamics/test/push_data_action_29_100_0.5_0.5_test.txt\n",
      "error:  0.642722093768 0.997457608688\n"
     ]
    }
   ],
   "source": [
    "for id in xrange(0,len(obj_start_config_list)):  \n",
    "    test_filename = g_repo_path + '/data/dynamics/test/' + 'push_data_action_' + str(id) +'_100_0.5_0.5_test.txt'\n",
    "    print test_filename\n",
    "    pos_err, quat_err = test(test_filename, all_model[id])\n",
    "    print 'error: ', pos_err, quat_err\n",
    "    test_err.append([pos_err, quat_err])"
   ]
  },
  {
   "cell_type": "code",
   "execution_count": 75,
   "metadata": {
    "collapsed": false
   },
   "outputs": [
    {
     "name": "stdout",
     "output_type": "stream",
     "text": [
      "error:  0.0652274593086 0.157346102332\n"
     ]
    }
   ],
   "source": [
    "pos_err_NN, quat_err_NN = test_NN(test_filename, X_train, Y_train)\n",
    "print 'error: ', pos_err_NN, quat_err_NN"
   ]
  },
  {
   "cell_type": "code",
   "execution_count": 69,
   "metadata": {
    "collapsed": true
   },
   "outputs": [],
   "source": [
    "def test_NN(test_filename, X_train, Y_train):\n",
    "    nbrs = NearestNeighbors(n_neighbors=2, algorithm='ball_tree').fit(X_train[:,0:2])\n",
    "\n",
    "    obj_start_config_test, hand_start_config_test, obj_end_config_test, hand_end_config_test = \\\n",
    "                                                                                read_data(test_filename)\n",
    "    X_test = np.squeeze(np.array(obj_start_config_test))\n",
    "    Y_test = np.squeeze(np.array(obj_end_config_test))\n",
    "    distances, indices = nbrs.kneighbors(X_test[:,0:2])\n",
    "#     print indices\n",
    "    Y_predict = np.zeros(X_test.shape) \n",
    "    for i in xrange(0,X_test.shape[0]):\n",
    "        Y_predict[i,:] = Y_train[indices[i,0],:]\n",
    "#     print Y_predict\n",
    "#     Y_predict = model.predict(X_test)[0]\n",
    "    gppred_pos_diff = np.abs(Y_predict[:,0:2] - Y_test[:,0:2])\n",
    "    ros_diff =  np.multiply(Y_test[:,3:], Y_predict[:,3:])**2\n",
    "    gppred_rot_diff = 1 - np.sum(ros_diff,axis=1)\n",
    "    num_of_samples = X_test.shape[0]\n",
    "    \n",
    "    return np.sum(np.sqrt(np.sum(gppred_pos_diff**2,axis=1)))/num_of_samples, \\\n",
    "           np.sum(gppred_rot_diff)/num_of_samples"
   ]
  },
  {
   "cell_type": "code",
   "execution_count": 63,
   "metadata": {
    "collapsed": true
   },
   "outputs": [],
   "source": [
    "X = np.array([[-1, -1], [-2, -1], [-3, -2], [1, 1], [2, 1], [3, 2]])\n",
    "nbrs = NearestNeighbors(n_neighbors=2, algorithm='ball_tree').fit(X)\n",
    "distances, indices = nbrs.kneighbors(X)"
   ]
  },
  {
   "cell_type": "code",
   "execution_count": 61,
   "metadata": {
    "collapsed": false
   },
   "outputs": [
    {
     "data": {
      "text/plain": [
       "(12, 7)"
      ]
     },
     "execution_count": 61,
     "metadata": {},
     "output_type": "execute_result"
    }
   ],
   "source": [
    "X_train.shape"
   ]
  },
  {
   "cell_type": "code",
   "execution_count": 71,
   "metadata": {
    "collapsed": false
   },
   "outputs": [
    {
     "name": "stdout",
     "output_type": "stream",
     "text": [
      "error:  0.0539716845397 0.209657433503\n"
     ]
    }
   ],
   "source": [
    "pos_err_NN, quat_err_NN = test_NN(test_filename, X_train, Y_train)\n",
    "print 'error: ', pos_err_NN, quat_err_NN"
   ]
  },
  {
   "cell_type": "code",
   "execution_count": 182,
   "metadata": {
    "collapsed": false
   },
   "outputs": [
    {
     "data": {
      "text/plain": [
       "array([ 0.02742917,  0.17267582])"
      ]
     },
     "execution_count": 182,
     "metadata": {},
     "output_type": "execute_result"
    }
   ],
   "source": [
    "np.sum(test_err_array,axis=0)/30"
   ]
  },
  {
   "cell_type": "code",
   "execution_count": 146,
   "metadata": {
    "collapsed": true
   },
   "outputs": [],
   "source": [
    "current_path = os.getcwd()\n",
    "current_path =  os.path.dirname(os.path.dirname(current_path))\n",
    "path = current_path+'/data/'\n",
    "train_filename = path+\"push_data_10_0.5_0.5.txt\"\n",
    "obj_start_config_train, hand_start_config_train, obj_end_config_train, hand_end_config_train = \\\n",
    "                                                                                read_data(train_filename)"
   ]
  },
  {
   "cell_type": "code",
   "execution_count": 33,
   "metadata": {
    "collapsed": false
   },
   "outputs": [],
   "source": [
    "X = np.squeeze(np.array(obj_start_config_train))\n",
    "Y = np.squeeze(np.array(obj_end_config_train))"
   ]
  },
  {
   "cell_type": "code",
   "execution_count": 63,
   "metadata": {
    "collapsed": false
   },
   "outputs": [
    {
     "data": {
      "text/plain": [
       "(10, 7)"
      ]
     },
     "execution_count": 63,
     "metadata": {},
     "output_type": "execute_result"
    }
   ],
   "source": [
    "Y.shape"
   ]
  },
  {
   "cell_type": "code",
   "execution_count": 78,
   "metadata": {
    "collapsed": false
   },
   "outputs": [],
   "source": [
    "k = GPy.kern.RBF(input_dim=7, ARD=True)\n",
    "              \n",
    "model = GPy.models.SparseGPRegression(X, Y, normalizer=True, kernel=k)\n",
    "\n",
    "# Randomize the model and optimize\n",
    "model.randomize()\n",
    "model.optimize()"
   ]
  },
  {
   "cell_type": "code",
   "execution_count": 148,
   "metadata": {
    "collapsed": false
   },
   "outputs": [],
   "source": [
    "rbf = GPy.kern.RBF(X.shape[1])\n",
    "model = GPy.models.GPRegression(X, Y, kernel=rbf)\n",
    "model.optimize()"
   ]
  },
  {
   "cell_type": "code",
   "execution_count": 149,
   "metadata": {
    "collapsed": false
   },
   "outputs": [
    {
     "name": "stdout",
     "output_type": "stream",
     "text": [
      "\n",
      "Name : GP regression\n",
      "Objective : -133.671570877\n",
      "Number of Parameters : 3\n",
      "Number of Optimization Parameters : 3\n",
      "Updates : True\n",
      "Parameters:\n",
      "  \u001b[1mGP_regression.         \u001b[0;0m  |              value  |  constraints  |  priors\n",
      "  \u001b[1mrbf.variance           \u001b[0;0m  |     0.280440713695  |      +ve      |        \n",
      "  \u001b[1mrbf.lengthscale        \u001b[0;0m  |     0.862567706004  |      +ve      |        \n",
      "  \u001b[1mGaussian_noise.variance\u001b[0;0m  |  0.000215606125799  |      +ve      |        \n"
     ]
    }
   ],
   "source": [
    "print model"
   ]
  },
  {
   "cell_type": "code",
   "execution_count": 150,
   "metadata": {
    "collapsed": true
   },
   "outputs": [],
   "source": [
    "test_filename = path+\"push_data_10_0.5_0.5.txt\"\n",
    "obj_start_config_test, hand_start_config_test, obj_end_config_test, hand_end_config_test = \\\n",
    "                                                                                read_data(test_filename)"
   ]
  },
  {
   "cell_type": "code",
   "execution_count": 151,
   "metadata": {
    "collapsed": true
   },
   "outputs": [],
   "source": [
    "X_test = np.squeeze(np.array(obj_start_config_test))\n",
    "Y_test = np.squeeze(np.array(obj_end_config_test))"
   ]
  },
  {
   "cell_type": "code",
   "execution_count": 67,
   "metadata": {
    "collapsed": false
   },
   "outputs": [
    {
     "data": {
      "text/plain": [
       "(10, 7)"
      ]
     },
     "execution_count": 67,
     "metadata": {},
     "output_type": "execute_result"
    }
   ],
   "source": [
    "X_test.shape"
   ]
  },
  {
   "cell_type": "code",
   "execution_count": 60,
   "metadata": {
    "collapsed": false
   },
   "outputs": [
    {
     "data": {
      "text/plain": [
       "(10, 7)"
      ]
     },
     "execution_count": 60,
     "metadata": {},
     "output_type": "execute_result"
    }
   ],
   "source": [
    "X_test.shape"
   ]
  },
  {
   "cell_type": "code",
   "execution_count": 89,
   "metadata": {
    "collapsed": false
   },
   "outputs": [
    {
     "data": {
      "text/plain": [
       "array([[  6.57222000e-01,  -2.54960000e-02,   7.74766000e-01,\n",
       "          9.99902000e-01,  -1.10400000e-03,  -9.41000000e-04,\n",
       "          1.39390000e-02],\n",
       "       [  6.43356000e-01,  -2.60200000e-02,   7.73873000e-01,\n",
       "          9.99947000e-01,   8.03800000e-03,   5.20000000e-05,\n",
       "          6.44800000e-03],\n",
       "       [  6.47057000e-01,   3.00670000e-02,   7.74744000e-01,\n",
       "          9.98248000e-01,  -2.47800000e-03,   3.41000000e-03,\n",
       "          5.90270000e-02],\n",
       "       [  6.06180000e-01,  -3.01350000e-02,   7.74760000e-01,\n",
       "          9.99925000e-01,  -2.40100000e-03,  -3.85900000e-03,\n",
       "          1.14160000e-02],\n",
       "       [  6.52863000e-01,  -2.16470000e-02,   7.74885000e-01,\n",
       "          9.98964000e-01,   3.80400000e-03,  -4.24050000e-02,\n",
       "         -1.60750000e-02],\n",
       "       [  6.60718000e-01,  -7.30880000e-02,   7.74917000e-01,\n",
       "          9.99962000e-01,   6.32000000e-04,   1.54300000e-03,\n",
       "          8.54500000e-03],\n",
       "       [  6.52104000e-01,  -1.56460000e-02,   7.74131000e-01,\n",
       "          9.99966000e-01,   6.89600000e-03,   1.97900000e-03,\n",
       "         -4.01900000e-03],\n",
       "       [  6.53139000e-01,  -4.02120000e-02,   7.74911000e-01,\n",
       "          9.98577000e-01,   2.00000000e-06,   1.11000000e-04,\n",
       "          5.33280000e-02],\n",
       "       [  6.36442000e-01,   3.22150000e-02,   7.74915000e-01,\n",
       "          9.98866000e-01,   9.17000000e-04,   2.41800000e-03,\n",
       "          4.75390000e-02],\n",
       "       [  6.75606000e-01,  -4.20900000e-03,   7.74920000e-01,\n",
       "          9.99883000e-01,   6.27000000e-04,   1.45000000e-03,\n",
       "         -1.52470000e-02]])"
      ]
     },
     "execution_count": 89,
     "metadata": {},
     "output_type": "execute_result"
    }
   ],
   "source": [
    "X_test"
   ]
  },
  {
   "cell_type": "code",
   "execution_count": 90,
   "metadata": {
    "collapsed": false
   },
   "outputs": [],
   "source": [
    "mu= model.predict(X_test)"
   ]
  },
  {
   "cell_type": "code",
   "execution_count": 92,
   "metadata": {
    "collapsed": false
   },
   "outputs": [
    {
     "data": {
      "text/plain": [
       "array([[  6.80043000e-01,   3.41900000e-02,   7.74821000e-01,\n",
       "          9.99764000e-01,  -2.70000000e-05,  -1.60700000e-03,\n",
       "          2.16570000e-02],\n",
       "       [  6.70099000e-01,   6.45900000e-02,   7.74811000e-01,\n",
       "          9.95855000e-01,  -1.12200000e-03,  -1.30900000e-03,\n",
       "          9.09400000e-02],\n",
       "       [  6.48800000e-01,   6.56400000e-02,   7.74915000e-01,\n",
       "          9.98117000e-01,  -2.63000000e-04,  -7.35000000e-04,\n",
       "          6.13370000e-02],\n",
       "       [  6.16280000e-01,   5.97890000e-02,   7.74661000e-01,\n",
       "          9.91899000e-01,   4.24000000e-04,   8.13700000e-03,\n",
       "          1.26765000e-01],\n",
       "       [  6.88590000e-01,   5.19140000e-02,   7.74904000e-01,\n",
       "          9.98899000e-01,  -1.83000000e-04,  -5.64000000e-04,\n",
       "         -4.69060000e-02],\n",
       "       [  6.80897000e-01,  -2.17800000e-02,   7.74392000e-01,\n",
       "          9.97441000e-01,  -4.64000000e-04,  -1.97000000e-04,\n",
       "         -7.14890000e-02],\n",
       "       [  6.81792000e-01,   5.69580000e-02,   7.74908000e-01,\n",
       "          9.99739000e-01,   8.23000000e-04,   1.88200000e-03,\n",
       "          2.27550000e-02],\n",
       "       [  6.81223000e-01,   2.42450000e-02,   7.74700000e-01,\n",
       "          9.99953000e-01,  -1.14100000e-03,   3.11100000e-03,\n",
       "          9.10100000e-03],\n",
       "       [  6.41681000e-01,   6.50860000e-02,   7.74758000e-01,\n",
       "          9.98004000e-01,  -1.54000000e-04,  -3.52100000e-03,\n",
       "          6.30480000e-02],\n",
       "       [  6.86294000e-01,   1.66670000e-02,   7.74917000e-01,\n",
       "          9.98902000e-01,   1.10000000e-03,   2.27000000e-03,\n",
       "         -4.67910000e-02]])"
      ]
     },
     "execution_count": 92,
     "metadata": {},
     "output_type": "execute_result"
    }
   ],
   "source": [
    "Y_test"
   ]
  },
  {
   "cell_type": "code",
   "execution_count": 91,
   "metadata": {
    "collapsed": false
   },
   "outputs": [
    {
     "data": {
      "text/plain": [
       "(array([[  6.76676484e-01,   2.94232770e-02,   7.75623647e-01,\n",
       "           9.99605894e-01,  -8.74184871e-05,   6.12426409e-04,\n",
       "          -2.07713627e-04],\n",
       "        [  6.66301735e-01,   4.31260697e-02,   7.75333322e-01,\n",
       "           9.97800712e-01,  -2.16956661e-05,   1.49076766e-03,\n",
       "           3.64207536e-02],\n",
       "        [  6.52168453e-01,   6.36066721e-02,   7.74396884e-01,\n",
       "           9.98284154e-01,  -2.95402073e-04,  -1.43078154e-03,\n",
       "           5.98165357e-02],\n",
       "        [  6.29979835e-01,   6.27796709e-02,   7.74467246e-01,\n",
       "           9.93104691e-01,  -2.69846122e-05,   4.78096604e-03,\n",
       "           1.13204625e-01],\n",
       "        [  6.84211868e-01,   4.93454336e-02,   7.74585909e-01,\n",
       "           9.98085167e-01,  -4.29987873e-06,   1.45152923e-04,\n",
       "          -2.92596823e-02],\n",
       "        [  6.86511161e-01,  -7.86129247e-04,   7.73515690e-01,\n",
       "           9.96859211e-01,  -5.12195453e-04,   1.91118795e-03,\n",
       "          -3.07821695e-02],\n",
       "        [  6.72293622e-01,   4.28882136e-02,   7.75207454e-01,\n",
       "           9.98210097e-01,   3.36142742e-04,   8.92211147e-04,\n",
       "           2.12710033e-02],\n",
       "        [  6.72611588e-01,   2.08024622e-02,   7.74946906e-01,\n",
       "           9.99271137e-01,  -1.05623096e-03,   2.94029524e-04,\n",
       "           7.86592478e-03],\n",
       "        [  6.43906896e-01,   7.48495954e-02,   7.74509202e-01,\n",
       "           9.97184530e-01,  -7.38587296e-05,  -5.55594259e-04,\n",
       "           8.50058759e-02],\n",
       "        [  6.90551757e-01,   3.13016969e-02,   7.74599841e-01,\n",
       "           9.99396396e-01,   7.34381087e-04,  -6.74285842e-04,\n",
       "          -3.27790647e-02]]), array([[ 0.00024693],\n",
       "        [ 0.00026026],\n",
       "        [ 0.00031787],\n",
       "        [ 0.00036725],\n",
       "        [ 0.00038286],\n",
       "        [ 0.00032339],\n",
       "        [ 0.0002693 ],\n",
       "        [ 0.000326  ],\n",
       "        [ 0.0003053 ],\n",
       "        [ 0.00033284]]))"
      ]
     },
     "execution_count": 91,
     "metadata": {},
     "output_type": "execute_result"
    }
   ],
   "source": [
    "mu"
   ]
  },
  {
   "cell_type": "code",
   "execution_count": 152,
   "metadata": {
    "collapsed": false
   },
   "outputs": [
    {
     "name": "stdout",
     "output_type": "stream",
     "text": [
      "0.011938709869\n",
      "0.00864624557059\n"
     ]
    }
   ],
   "source": [
    "Y_predict = model.predict(X_test)[0]\n",
    "gppred_pos_diff = np.abs(Y_predict[:,0:2] - Y_test[:,0:2])\n",
    "ros_diff =  np.multiply(Y_test[:,3:], Y_predict[:,3:])**2\n",
    "gppred_rot_diff = 1 - np.sum(ros_diff,axis=1)\n",
    "\n",
    "print np.sum(np.sum(gppred_diff))/10\n",
    "print np.sum(gppred_rot_diff)/10"
   ]
  },
  {
   "cell_type": "code",
   "execution_count": 156,
   "metadata": {
    "collapsed": false
   },
   "outputs": [
    {
     "data": {
      "text/plain": [
       "array([[ 0.00336567,  0.00477375],\n",
       "       [ 0.00379744,  0.02145822],\n",
       "       [ 0.00336222,  0.00203128],\n",
       "       [ 0.01368576,  0.0029968 ],\n",
       "       [ 0.00437359,  0.0025643 ],\n",
       "       [ 0.00561131,  0.02098448],\n",
       "       [ 0.00949542,  0.01406415],\n",
       "       [ 0.00860075,  0.00344505],\n",
       "       [ 0.00222585,  0.00976411],\n",
       "       [ 0.00426202,  0.01462946]])"
      ]
     },
     "execution_count": 156,
     "metadata": {},
     "output_type": "execute_result"
    }
   ],
   "source": [
    "gppred_pos_diff"
   ]
  },
  {
   "cell_type": "code",
   "execution_count": 159,
   "metadata": {
    "collapsed": false
   },
   "outputs": [
    {
     "data": {
      "text/plain": [
       "array([[  1.13277109e-05,   2.27887326e-05],\n",
       "       [  1.44205730e-05,   4.60455336e-04],\n",
       "       [  1.13044902e-05,   4.12610731e-06],\n",
       "       [  1.87299952e-04,   8.98081647e-06],\n",
       "       [  1.91282964e-05,   6.57563885e-06],\n",
       "       [  3.14868308e-05,   4.40348512e-04],\n",
       "       [  9.01629391e-05,   1.97800315e-04],\n",
       "       [  7.39729638e-05,   1.18683352e-05],\n",
       "       [  4.95441870e-06,   9.53377537e-05],\n",
       "       [  1.81647913e-05,   2.14021046e-04]])"
      ]
     },
     "execution_count": 159,
     "metadata": {},
     "output_type": "execute_result"
    }
   ],
   "source": [
    "gppred_pos_diff**2"
   ]
  },
  {
   "cell_type": "code",
   "execution_count": 162,
   "metadata": {
    "collapsed": false
   },
   "outputs": [
    {
     "data": {
      "text/plain": [
       "0.012384923721227604"
      ]
     },
     "execution_count": 162,
     "metadata": {},
     "output_type": "execute_result"
    }
   ],
   "source": [
    "np.sum(np.sqrt(np.sum(gppred_pos_diff**2,axis=1)))/10"
   ]
  },
  {
   "cell_type": "code",
   "execution_count": 73,
   "metadata": {
    "collapsed": false
   },
   "outputs": [
    {
     "name": "stdout",
     "output_type": "stream",
     "text": [
      "Optimization restart 1/3, f = 0.637548452478\n",
      "Optimization restart 2/3, f = 0.637548452459\n",
      "Optimization restart 3/3, f = 0.63754845247\n",
      "Optimization restart 1/3, f = -0.303190593675\n",
      "Optimization restart 2/3, f = -0.102643082363\n",
      "Optimization restart 3/3, f = -0.102643307035\n",
      "Optimization restart 1/3, f = 1.36471218618\n",
      "Optimization restart 2/3, f = 1.25060873036\n",
      "Optimization restart 3/3, f = 1.25063850351\n",
      "Optimization restart 1/3, f = 2.80787432728\n",
      "Optimization restart 2/3, f = 3.01491533172\n",
      "Optimization restart 3/3, f = 3.01491533391\n",
      "Optimization restart 1/3, f = 1.8905232344\n",
      "Optimization restart 2/3, f = 2.90348663359\n",
      "Optimization restart 3/3, f = 2.9034866336\n",
      "Optimization restart 1/3, f = 3.33798976134\n",
      "Optimization restart 2/3, f = 3.28027250455\n",
      "Optimization restart 3/3, f = 3.28027250454\n",
      "Optimization restart 1/3, f = 7.74550443592\n",
      "Optimization restart 2/3, f = 4.77729215791\n",
      "Optimization restart 3/3, f = 4.77729215791\n",
      "Optimization restart 1/3, f = 11.682071199\n",
      "Optimization restart 2/3, f = 6.85956361772\n",
      "Optimization restart 3/3, f = 6.85956361715\n",
      "Optimization restart 1/3, f = 13.0243297653\n",
      "Optimization restart 2/3, f = 6.7723794853\n",
      "Optimization restart 3/3, f = 6.7723794853\n",
      "Optimization restart 1/3, f = 13.6323430619\n",
      "Optimization restart 2/3, f = 6.40010763049\n",
      "Optimization restart 3/3, f = 6.40010763046\n",
      "Optimization restart 1/3, f = 15.5564246391\n",
      "Optimization restart 2/3, f = 5.80058792741\n",
      "Optimization restart 3/3, f = 5.80058792721\n",
      "Optimization restart 1/3, f = 16.2020438221\n",
      "Optimization restart 2/3, f = 6.14253597583\n",
      "Optimization restart 3/3, f = 6.14253597825\n",
      "Optimization restart 1/3, f = 18.4075943406\n",
      "Optimization restart 2/3, f = 6.80781549411\n",
      "Optimization restart 3/3, f = 6.80781549411\n",
      "Optimization restart 1/3, f = 19.7743225431\n",
      "Optimization restart 2/3, f = 6.1323827928\n",
      "Optimization restart 3/3, f = 6.1323827928\n",
      "Optimization restart 1/3, f = 22.5165152906\n",
      "Optimization restart 2/3, f = 5.90858204677\n",
      "Optimization restart 3/3, f = 5.90858204675\n",
      "Optimization restart 1/3, f = 25.592687637\n",
      "Optimization restart 2/3, f = 5.42235698241\n",
      "Optimization restart 3/3, f = 5.42235698242\n",
      "Optimization restart 1/3, f = 26.3031709643\n",
      "Optimization restart 2/3, f = 5.07711730788\n",
      "Optimization restart 3/3, f = 5.07711730783\n",
      "Optimization restart 1/3, f = 26.9175062672\n",
      "Optimization restart 2/3, f = 5.30684488549\n",
      "Optimization restart 3/3, f = 5.30684488571\n",
      "Optimization restart 1/3, f = 27.8952620745\n",
      "Optimization restart 2/3, f = 5.25040934079\n",
      "Optimization restart 3/3, f = 5.25040933374\n",
      "Optimization restart 1/3, f = 30.2695478616\n",
      "Optimization restart 2/3, f = 5.41922853322\n",
      "Optimization restart 3/3, f = 5.41922853333\n",
      "Optimization restart 1/3, f = 31.0778362161\n",
      "Optimization restart 2/3, f = 4.65809188926\n",
      "Optimization restart 3/3, f = 4.6580918893\n",
      "Optimization restart 1/3, f = 32.0634281963\n",
      "Optimization restart 2/3, f = 5.62571488204\n",
      "Optimization restart 3/3, f = 5.62571488206\n",
      "Optimization restart 1/3, f = 34.1443364182\n",
      "Optimization restart 2/3, f = 5.38761670229\n",
      "Optimization restart 3/3, f = 5.38761670226\n",
      "Optimization restart 1/3, f = 34.7265312695\n",
      "Optimization restart 2/3, f = 5.34106605431\n",
      "Optimization restart 3/3, f = 5.34106605426\n",
      "Optimization restart 1/3, f = 36.8162117019\n",
      "Optimization restart 2/3, f = 5.68413971838\n",
      "Optimization restart 3/3, f = 5.68413972224\n",
      "Optimization restart 1/3, f = 39.380767992\n",
      "Optimization restart 2/3, f = 5.07006667795\n",
      "Optimization restart 3/3, f = 5.07006667796\n",
      "Optimization restart 1/3, f = 40.2571546136\n",
      "Optimization restart 2/3, f = 4.7324389129\n",
      "Optimization restart 3/3, f = 4.73243891282\n",
      "Optimization restart 1/3, f = 40.9026285934\n",
      "Optimization restart 2/3, f = 4.16664877755\n",
      "Optimization restart 3/3, f = 4.16664877791\n",
      "Optimization restart 1/3, f = 42.0324671347\n",
      "Optimization restart 2/3, f = 4.82704502772\n",
      "Optimization restart 3/3, f = 4.82704502768\n",
      "Optimization restart 1/3, f = 43.0459387203\n",
      "Optimization restart 2/3, f = 5.23505923405\n",
      "Optimization restart 3/3, f = 5.23505923395\n",
      "Optimization restart 1/3, f = 45.6950456517\n",
      "Optimization restart 2/3, f = 6.09306745261\n",
      "Optimization restart 3/3, f = 6.09306745271\n",
      "Optimization restart 1/3, f = 48.1415690065\n",
      "Optimization restart 2/3, f = 7.56797549257\n",
      "Optimization restart 3/3, f = 7.56797549256\n",
      "Optimization restart 1/3, f = 50.4285709701\n",
      "Optimization restart 2/3, f = 7.42913448781\n",
      "Optimization restart 3/3, f = 7.42913448781\n",
      "Optimization restart 1/3, f = 52.3703334463\n",
      "Optimization restart 2/3, f = 7.0588662044\n",
      "Optimization restart 3/3, f = 7.0588662044\n",
      "Optimization restart 1/3, f = 55.2680793811\n",
      "Optimization restart 2/3, f = 6.46029237749\n",
      "Optimization restart 3/3, f = 6.46029237748\n",
      "Optimization restart 1/3, f = 57.864366433\n",
      "Optimization restart 2/3, f = 5.60258037023\n",
      "Optimization restart 3/3, f = 5.60258037023\n",
      "Optimization restart 1/3, f = 58.9126024712\n",
      "Optimization restart 2/3, f = 5.01190586879\n",
      "Optimization restart 3/3, f = 5.01190586782\n",
      "Optimization restart 1/3, f = 60.8633368691\n",
      "Optimization restart 2/3, f = 6.27016367578\n",
      "Optimization restart 3/3, f = 6.27016367576\n",
      "Optimization restart 1/3, f = 63.7987933009\n",
      "Optimization restart 2/3, f = 5.39522694825\n",
      "Optimization restart 3/3, f = 5.3952269481\n",
      "Optimization restart 1/3, f = 65.2464609263\n",
      "Optimization restart 2/3, f = 5.38686717234\n",
      "Optimization restart 3/3, f = 5.38686719265\n",
      "Optimization restart 1/3, f = 66.7301460215\n",
      "Optimization restart 2/3, f = 5.2114209856\n",
      "Optimization restart 3/3, f = 5.21142098561\n",
      "Optimization restart 1/3, f = 4.61735604283\n",
      "Optimization restart 2/3, f = 4.61735604318\n",
      "Optimization restart 3/3, f = 4.61735604292\n",
      "Optimization restart 1/3, f = 3.61263166645\n",
      "Optimization restart 2/3, f = 3.61263166654\n",
      "Optimization restart 3/3, f = 3.61263166644\n",
      "Optimization restart 1/3, f = 71.4146302799\n",
      "Optimization restart 2/3, f = 3.31490150991\n",
      "Optimization restart 3/3, f = 3.31490151\n",
      "Optimization restart 1/3, f = 72.0715910088\n",
      "Optimization restart 2/3, f = 2.31923710221\n",
      "Optimization restart 3/3, f = 2.31923710216\n",
      "Optimization restart 1/3, f = 73.9426161917\n",
      "Optimization restart 2/3, f = 5.14551710369\n",
      "Optimization restart 3/3, f = 5.1455171037\n",
      "Optimization restart 1/3, f = 4.4382993037\n",
      "Optimization restart 2/3, f = 4.4382993037\n",
      "Optimization restart 3/3, f = 4.4382993037\n",
      "Optimization restart 1/3, f = 4.74042773438\n",
      "Optimization restart 2/3, f = 4.74042773031\n",
      "Optimization restart 3/3, f = 4.74042773031\n",
      "Optimization restart 1/3, f = 3.76848056547\n",
      "Optimization restart 2/3, f = 3.76848056598\n",
      "Optimization restart 3/3, f = 3.76848056577\n",
      "Optimization restart 1/3, f = 78.7034484889\n",
      "Optimization restart 2/3, f = 3.07078627272\n",
      "Optimization restart 3/3, f = 3.07078627272\n",
      "Optimization restart 1/3, f = 2.31962286052\n",
      "Optimization restart 2/3, f = 2.31962286036\n",
      "Optimization restart 3/3, f = 2.31962286036\n",
      "Optimization restart 1/3, f = 2.41984404992\n",
      "Optimization restart 2/3, f = 2.41984405\n",
      "Optimization restart 3/3, f = 2.41984404993\n",
      "Optimization restart 1/3, f = 1.43555602384\n",
      "Optimization restart 2/3, f = 1.43555602383\n",
      "Optimization restart 3/3, f = 1.43555602388\n",
      "Optimization restart 1/3, f = 0.51760778481\n",
      "Optimization restart 2/3, f = 0.517607784818\n",
      "Optimization restart 3/3, f = 0.51760778481\n",
      "Optimization restart 1/3, f = 1.42362252967\n",
      "Optimization restart 2/3, f = 1.42362252965\n",
      "Optimization restart 3/3, f = 1.42362252965\n",
      "Optimization restart 1/3, f = 0.96305062329\n",
      "Optimization restart 2/3, f = 0.963050623289\n",
      "Optimization restart 3/3, f = 0.96305062331\n",
      "Optimization restart 1/3, f = 2.03364796971\n",
      "Optimization restart 2/3, f = 2.0336479697\n",
      "Optimization restart 3/3, f = 2.03364796973\n",
      "Optimization restart 1/3, f = 1.11465244329\n",
      "Optimization restart 2/3, f = 1.11465244316\n",
      "Optimization restart 3/3, f = 1.11465244316\n",
      "Optimization restart 1/3, f = 0.910804298666\n",
      "Optimization restart 2/3, f = 0.910804298621\n",
      "Optimization restart 3/3, f = 0.91080429865\n",
      "Optimization restart 1/3, f = 95.0417909277\n",
      "Optimization restart 2/3, f = 1.06796123863\n",
      "Optimization restart 3/3, f = 1.06796123863\n",
      "Optimization restart 1/3, f = 96.1162383915\n",
      "Optimization restart 2/3, f = 1.11281429222\n",
      "Optimization restart 3/3, f = 1.11281429222\n",
      "Optimization restart 1/3, f = 7.83519086058\n",
      "Optimization restart 2/3, f = 7.83519085902\n",
      "Optimization restart 3/3, f = 7.83519085901\n",
      "Optimization restart 1/3, f = 7.24570143315\n",
      "Optimization restart 2/3, f = 7.24570142827\n",
      "Optimization restart 3/3, f = 7.24570142827\n",
      "Optimization restart 1/3, f = 6.46906976971\n",
      "Optimization restart 2/3, f = 6.4690697674\n",
      "Optimization restart 3/3, f = 6.46906976749\n",
      "Optimization restart 1/3, f = 5.5127694573\n",
      "Optimization restart 2/3, f = 5.51276945735\n",
      "Optimization restart 3/3, f = 5.5127694573\n",
      "Optimization restart 1/3, f = 4.64322272947\n",
      "Optimization restart 2/3, f = 4.64322272923\n",
      "Optimization restart 3/3, f = 4.64322272918\n",
      "Optimization restart 1/3, f = 3.64258178779\n",
      "Optimization restart 2/3, f = 3.64258178779\n",
      "Optimization restart 3/3, f = 3.64258178786\n",
      "Optimization restart 1/3, f = 3.64336111457\n",
      "Optimization restart 2/3, f = 3.64336111458\n",
      "Optimization restart 3/3, f = 3.64336111458\n",
      "Optimization restart 1/3, f = 4.31219653344\n",
      "Optimization restart 2/3, f = 4.31219653343\n",
      "Optimization restart 3/3, f = 4.31219653347\n",
      "Optimization restart 1/3, f = 5.06549968129\n",
      "Optimization restart 2/3, f = 5.06549968135\n",
      "Optimization restart 3/3, f = 5.06549968129\n",
      "Optimization restart 1/3, f = 5.08762523857\n",
      "Optimization restart 2/3, f = 5.08762523857\n",
      "Optimization restart 3/3, f = 5.08762523985\n",
      "Optimization restart 1/3, f = 6.09326327675\n",
      "Optimization restart 2/3, f = 6.09326327675\n",
      "Optimization restart 3/3, f = 6.09326327677\n",
      "Optimization restart 1/3, f = 6.06046696522\n",
      "Optimization restart 2/3, f = 6.06046696526\n",
      "Optimization restart 3/3, f = 6.06046696521\n",
      "Optimization restart 1/3, f = 8.31719383632\n",
      "Optimization restart 2/3, f = 8.31719383668\n",
      "Optimization restart 3/3, f = 8.31719383632\n",
      "Optimization restart 1/3, f = 9.07080407035\n",
      "Optimization restart 2/3, f = 9.07080407035\n",
      "Optimization restart 3/3, f = 9.07080407062\n",
      "Optimization restart 1/3, f = 8.71271592425\n",
      "Optimization restart 2/3, f = 8.71271592425\n",
      "Optimization restart 3/3, f = 8.71271592433\n",
      "Optimization restart 1/3, f = 8.10294358898\n",
      "Optimization restart 2/3, f = 8.10294358381\n",
      "Optimization restart 3/3, f = 8.10294358378\n",
      "Optimization restart 1/3, f = 8.24748655208\n",
      "Optimization restart 2/3, f = 8.2474865519\n",
      "Optimization restart 3/3, f = 8.2474865519\n",
      "Optimization restart 1/3, f = 9.317101527\n",
      "Optimization restart 2/3, f = 9.31710152721\n",
      "Optimization restart 3/3, f = 9.31710152692\n",
      "Optimization restart 1/3, f = 10.692698358\n",
      "Optimization restart 2/3, f = 10.6926983579\n",
      "Optimization restart 3/3, f = 10.6926983581\n",
      "Optimization restart 1/3, f = 12.4083877597\n",
      "Optimization restart 2/3, f = 12.4083877597\n",
      "Optimization restart 3/3, f = 12.4083877627\n",
      "Optimization restart 1/3, f = 13.7413170142\n",
      "Optimization restart 2/3, f = 13.7413170132\n",
      "Optimization restart 3/3, f = 13.7413170132\n",
      "Optimization restart 1/3, f = 13.2742841944\n",
      "Optimization restart 2/3, f = 13.2742841944\n",
      "Optimization restart 3/3, f = 13.2742841944\n",
      "Optimization restart 1/3, f = 12.482382401\n",
      "Optimization restart 2/3, f = 12.4823823992\n",
      "Optimization restart 3/3, f = 12.4823823992\n",
      "Optimization restart 1/3, f = 12.0100761653\n",
      "Optimization restart 2/3, f = 12.0100763176\n",
      "Optimization restart 3/3, f = 12.0100761748\n",
      "Optimization restart 1/3, f = 11.4974471236\n",
      "Optimization restart 2/3, f = 11.4974471242\n",
      "Optimization restart 3/3, f = 11.4974471299\n",
      "Optimization restart 1/3, f = 10.7503824973\n",
      "Optimization restart 2/3, f = 10.7503824972\n",
      "Optimization restart 3/3, f = 10.7503824972\n",
      "Optimization restart 1/3, f = 9.92648005391\n",
      "Optimization restart 2/3, f = 9.92648005385\n",
      "Optimization restart 3/3, f = 9.92648005384\n",
      "Optimization restart 1/3, f = 10.4998837248\n",
      "Optimization restart 2/3, f = 10.4998837256\n",
      "Optimization restart 3/3, f = 10.4998837248\n",
      "Optimization restart 1/3, f = 9.80926434934\n",
      "Optimization restart 2/3, f = 9.80926434943\n",
      "Optimization restart 3/3, f = 9.80926434933\n",
      "Optimization restart 1/3, f = 9.78135611763\n",
      "Optimization restart 2/3, f = 9.78135611881\n",
      "Optimization restart 3/3, f = 9.78135611821\n",
      "Optimization restart 1/3, f = 9.62234320237\n",
      "Optimization restart 2/3, f = 9.62234320252\n",
      "Optimization restart 3/3, f = 9.62234320232\n",
      "Optimization restart 1/3, f = 8.78090563805\n",
      "Optimization restart 2/3, f = 8.7809056384\n",
      "Optimization restart 3/3, f = 8.78090565101\n",
      "Optimization restart 1/3, f = 8.03615993012\n",
      "Optimization restart 2/3, f = 8.03615993058\n",
      "Optimization restart 3/3, f = 8.03615993019\n",
      "Optimization restart 1/3, f = 8.41360697891\n",
      "Optimization restart 2/3, f = 8.41360697895\n",
      "Optimization restart 3/3, f = 8.41360697896\n",
      "Optimization restart 1/3, f = 10.0486436801\n",
      "Optimization restart 2/3, f = 10.0486436808\n",
      "Optimization restart 3/3, f = 10.0486436801\n",
      "Optimization restart 1/3, f = 9.12730128951\n",
      "Optimization restart 2/3, f = 9.12730128951\n",
      "Optimization restart 3/3, f = 9.12730128951\n",
      "Optimization restart 1/3, f = 8.59956337866\n",
      "Optimization restart 2/3, f = 8.59956337865\n",
      "Optimization restart 3/3, f = 8.59956337866\n",
      "Optimization restart 1/3, f = 8.28677410072\n",
      "Optimization restart 2/3, f = 8.28677410063\n",
      "Optimization restart 3/3, f = 8.28677410155\n"
     ]
    },
    {
     "data": {
      "image/png": "[encoded data removed]",
      "text/plain": [
       "<matplotlib.figure.Figure at 0x7f9a8794ffd0>"
      ]
     },
     "metadata": {},
     "output_type": "display_data"
    }
   ],
   "source": [
    "import GPy\n",
    "import numpy as np\n",
    "import matplotlib.pyplot as plt\n",
    "\"\"\"\n",
    "This gives a brief demo of drawing samples from a Gaussian process\n",
    "\"\"\"\n",
    "plt.ion()\n",
    "\n",
    "sample_size = 200\n",
    "full_X = np.random.uniform(0, 1., (sample_size, 1))\n",
    "full_Y = np.sin(full_X) + np.random.randn(sample_size, 1) * 0.25\n",
    "\n",
    "true_X = np.linspace(0, 1, 100)\n",
    "true_Y = np.sin(true_X)\n",
    "fig = plt.figure()\n",
    "ax = fig.add_subplot(111)\n",
    "for a in range(2, sample_size, 2):\n",
    "    X = full_X[:a]\n",
    "    Y = full_Y[:a]\n",
    "\n",
    "    kernel = GPy.kern.RBF(input_dim=1, variance=1., lengthscale=1.)\n",
    "    model = GPy.models.GPRegression(X, Y, kernel, noise_var=1e-10)\n",
    "    model.optimize_restarts(num_restarts=3)\n",
    "    testX = np.linspace(0, 1, 100).reshape(-1, 1)\n",
    "    posteriorTestY = model.posterior_samples(testX, full_cov=True, size=10)\n",
    "    simY, simMse = model.predict(testX)\n",
    "\n",
    "    plt.cla()\n",
    "    plt.plot(true_X, true_Y, 'k', linewidth=10, alpha=0.25)\n",
    "    plt.plot(testX, posteriorTestY, alpha=0.5)\n",
    "    plt.plot(X, Y, 'ok', markersize=10)\n",
    "    plt.plot(testX, simY - 1.95 * simMse**0.5, '--g')\n",
    "    plt.plot(testX, simY + 1.95 * simMse**0.5, '--g')\n",
    "    plt.axis([0.0, 1.0, -0.3, +1.1])\n",
    "    plt.pause(10.0 / a)"
   ]
  },
  {
   "cell_type": "code",
   "execution_count": 80,
   "metadata": {
    "collapsed": false
   },
   "outputs": [
    {
     "data": {
      "text/plain": [
       "array([[ 0.06143957],\n",
       "       [ 0.06131845],\n",
       "       [ 0.06120488],\n",
       "       [ 0.06109856],\n",
       "       [ 0.06099921],\n",
       "       [ 0.06090652],\n",
       "       [ 0.06082021],\n",
       "       [ 0.06074   ],\n",
       "       [ 0.06066563],\n",
       "       [ 0.06059682],\n",
       "       [ 0.0605333 ],\n",
       "       [ 0.06047482],\n",
       "       [ 0.06042112],\n",
       "       [ 0.06037196],\n",
       "       [ 0.06032709],\n",
       "       [ 0.06028628],\n",
       "       [ 0.0602493 ],\n",
       "       [ 0.06021592],\n",
       "       [ 0.06018592],\n",
       "       [ 0.0601591 ],\n",
       "       [ 0.06013524],\n",
       "       [ 0.06011414],\n",
       "       [ 0.06009561],\n",
       "       [ 0.06007945],\n",
       "       [ 0.0600655 ],\n",
       "       [ 0.06005357],\n",
       "       [ 0.06004349],\n",
       "       [ 0.0600351 ],\n",
       "       [ 0.06002825],\n",
       "       [ 0.06002277],\n",
       "       [ 0.06001854],\n",
       "       [ 0.06001541],\n",
       "       [ 0.06001325],\n",
       "       [ 0.06001195],\n",
       "       [ 0.06001137],\n",
       "       [ 0.06001141],\n",
       "       [ 0.06001198],\n",
       "       [ 0.06001296],\n",
       "       [ 0.06001428],\n",
       "       [ 0.06001585],\n",
       "       [ 0.06001759],\n",
       "       [ 0.06001943],\n",
       "       [ 0.06002132],\n",
       "       [ 0.06002319],\n",
       "       [ 0.060025  ],\n",
       "       [ 0.06002671],\n",
       "       [ 0.06002827],\n",
       "       [ 0.06002967],\n",
       "       [ 0.06003089],\n",
       "       [ 0.0600319 ],\n",
       "       [ 0.0600327 ],\n",
       "       [ 0.0600333 ],\n",
       "       [ 0.06003369],\n",
       "       [ 0.0600339 ],\n",
       "       [ 0.06003394],\n",
       "       [ 0.06003385],\n",
       "       [ 0.06003365],\n",
       "       [ 0.06003339],\n",
       "       [ 0.06003311],\n",
       "       [ 0.06003288],\n",
       "       [ 0.06003275],\n",
       "       [ 0.0600328 ],\n",
       "       [ 0.06003309],\n",
       "       [ 0.06003372],\n",
       "       [ 0.06003477],\n",
       "       [ 0.06003634],\n",
       "       [ 0.06003853],\n",
       "       [ 0.06004146],\n",
       "       [ 0.06004523],\n",
       "       [ 0.06004997],\n",
       "       [ 0.06005581],\n",
       "       [ 0.0600629 ],\n",
       "       [ 0.06007136],\n",
       "       [ 0.06008135],\n",
       "       [ 0.06009302],\n",
       "       [ 0.06010654],\n",
       "       [ 0.06012208],\n",
       "       [ 0.06013981],\n",
       "       [ 0.06015991],\n",
       "       [ 0.06018257],\n",
       "       [ 0.06020798],\n",
       "       [ 0.06023634],\n",
       "       [ 0.06026785],\n",
       "       [ 0.06030274],\n",
       "       [ 0.06034121],\n",
       "       [ 0.06038349],\n",
       "       [ 0.06042981],\n",
       "       [ 0.06048039],\n",
       "       [ 0.06053549],\n",
       "       [ 0.06059535],\n",
       "       [ 0.06066021],\n",
       "       [ 0.06073034],\n",
       "       [ 0.060806  ],\n",
       "       [ 0.06088745],\n",
       "       [ 0.06097496],\n",
       "       [ 0.06106881],\n",
       "       [ 0.06116929],\n",
       "       [ 0.06127668],\n",
       "       [ 0.06139128],\n",
       "       [ 0.06151336]])"
      ]
     },
     "execution_count": 80,
     "metadata": {},
     "output_type": "execute_result"
    }
   ],
   "source": [
    "simMse\n"
   ]
  },
  {
   "cell_type": "code",
   "execution_count": 74,
   "metadata": {
    "collapsed": false
   },
   "outputs": [
    {
     "data": {
      "text/plain": [
       "(100, 1)"
      ]
     },
     "execution_count": 74,
     "metadata": {},
     "output_type": "execute_result"
    }
   ],
   "source": [
    "testX.shape"
   ]
  },
  {
   "cell_type": "code",
   "execution_count": null,
   "metadata": {
    "collapsed": true
   },
   "outputs": [],
   "source": [
    "current_path = os.getcwd()\n",
    "current_path =  os.path.dirname(os.path.dirname(current_path)) + '/data/dynamics/'"
   ]
  }
 ],
 "metadata": {
  "kernelspec": {
   "display_name": "Python 2",
   "language": "python",
   "name": "python2"
  },
  "language_info": {
   "codemirror_mode": {
    "name": "ipython",
    "version": 2
   },
   "file_extension": ".py",
   "mimetype": "text/x-python",
   "name": "python",
   "nbconvert_exporter": "python",
   "pygments_lexer": "ipython2",
   "version": "2.7.6"
  }
 },
 "nbformat": 4,
 "nbformat_minor": 1
}
